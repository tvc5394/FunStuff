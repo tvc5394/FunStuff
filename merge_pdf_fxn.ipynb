{
 "cells": [
  {
   "cell_type": "code",
   "execution_count": 1,
   "metadata": {},
   "outputs": [],
   "source": [
    "import PyPDF2 \n",
    "import os.path"
   ]
  },
  {
   "cell_type": "markdown",
   "metadata": {},
   "source": [
    "### Define functions to open, read, and write files"
   ]
  },
  {
   "cell_type": "code",
   "execution_count": 2,
   "metadata": {},
   "outputs": [],
   "source": [
    "#open files\n",
    "def file_opener(files):\n",
    "    doc= open(files, 'rb') #read in binary code\n",
    "    return PyPDF2.PdfFileReader(doc), doc #returns a tuple\n",
    "    \n",
    "#add pages to the document writer object\n",
    "def add_pages(file):\n",
    "    for i in range (file.getNumPages()):\n",
    "        writer.addPage(file.getPage(i))\n",
    "    return\n",
    "    \n",
    "#tell writer to write the document\n",
    "def pdf_name(untitledpdf): \n",
    "    pdf_out= open(untitledpdf, 'wb')\n",
    "    writer.write(pdf_out)\n",
    "    pdf_out.close()\n",
    "    return \n",
    "\n",
    "#clear document\n",
    "def clear_file(untitledpdf):\n",
    "    open(untitledpdf, 'w').close()\n",
    "    return\n"
   ]
  },
  {
   "cell_type": "markdown",
   "metadata": {},
   "source": [
    "### Define the merge PDF function"
   ]
  },
  {
   "cell_type": "code",
   "execution_count": 3,
   "metadata": {},
   "outputs": [],
   "source": [
    "def combine_pdf(name, pdf_list):\n",
    "    \n",
    "    file_list=[]  \n",
    "    \n",
    "    for i in range(len(pdf_list)):\n",
    "        f_open = file_opener(pdf_list[i])[0]\n",
    "        f_close = file_opener(pdf_list[i])[1]\n",
    "        file_list.append(f_open)\n",
    "        f_close.close()\n",
    "\n",
    "    for j in range(len(file_list)):\n",
    "        add_pages(file_list[j]) \n",
    "        \n",
    "    # check if the desired file name has been used    \n",
    "    if os.path.isfile(name) == True:\n",
    "        print('Overwrite? (y/n)')\n",
    "        user_input = input()\n",
    "        if user_input == 'y':\n",
    "            clear_file(name)\n",
    "        else:\n",
    "            print('Please rename the new document')\n",
    "        \n",
    "    pdf_name(name)\n",
    "    return 'complete'"
   ]
  },
  {
   "cell_type": "code",
   "execution_count": 4,
   "metadata": {
    "scrolled": true
   },
   "outputs": [
    {
     "name": "stdout",
     "output_type": "stream",
     "text": [
      "Overwrite? (y/n)\n",
      "y\n"
     ]
    },
    {
     "data": {
      "text/plain": [
       "'complete'"
      ]
     },
     "execution_count": 4,
     "metadata": {},
     "output_type": "execute_result"
    }
   ],
   "source": [
    "#need to make sure the writer is empty, or else it will keep the file(s) from the last run\n",
    "writer = PyPDF2.PdfFileWriter()\n",
    "\n",
    "#place your file names in a str format (e.g., [\"Rat1.pdf\",\"Rat2.pdf\",\"Rat3.pdf\",\"Rat4.pdf\"])\n",
    "list_of_pdfs =[\"\",\"\"] \n",
    "#change the \"untitledpdf\" to your desired output file name (e.g., \"RatPics.pdf\")\n",
    "combine_pdf(\"untitledpdf\", list_of_pdfs) "
   ]
  },
  {
   "cell_type": "code",
   "execution_count": null,
   "metadata": {},
   "outputs": [],
   "source": []
  }
 ],
 "metadata": {
  "kernelspec": {
   "display_name": "Python 3",
   "language": "python",
   "name": "python3"
  },
  "language_info": {
   "codemirror_mode": {
    "name": "ipython",
    "version": 3
   },
   "file_extension": ".py",
   "mimetype": "text/x-python",
   "name": "python",
   "nbconvert_exporter": "python",
   "pygments_lexer": "ipython3",
   "version": "3.8.8"
  }
 },
 "nbformat": 4,
 "nbformat_minor": 2
}
